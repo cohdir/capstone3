{
 "cells": [
  {
   "cell_type": "markdown",
   "metadata": {},
   "source": [
    "# Customer Behavior Prediction Using Machine Learning Models"
   ]
  },
  {
   "cell_type": "markdown",
   "metadata": {},
   "source": [
    "### Ridho Fachrezi Cholistyo / JCDSOL-02"
   ]
  },
  {
   "cell_type": "markdown",
   "metadata": {},
   "source": [
    "## Business Problem Understanding"
   ]
  },
  {
   "cell_type": "markdown",
   "metadata": {},
   "source": [
    "**Context**\n",
    "Perusahaan saat ini menghadapi tantangan berupa penurunan loyalitas pelanggan, yang tercermin dari tingkat churn atau berhentinya pelanggan menggunakan layanan secara signifikan. Kondisi ini tidak hanya berpotensi menurunkan pendapatan, tetapi juga meningkatkan biaya akuisisi pelanggan baru dan mengganggu stabilitas pertumbuhan bisnis secara keseluruhan.\n",
    "\n",
    "**Problem Statement**\n",
    "Masalah ini menjadi perhatian utama bagi tim manajemen, pemasaran, dan customer retention. Mereka memerlukan solusi prediktif yang mampu mengidentifikasi pelanggan yang berpotensi churn sejak dini. Dengan informasi ini, intervensi strategis dapat dilakukan lebih cepat dan tepat sasaran untuk mencegah kehilangan pelanggan.\n",
    "\n",
    "**Project Goals**\n",
    "Proyek ini bertujuan untuk membangun model prediksi churn pelanggan yang andal, guna membantu perusahaan memahami pola dan faktor-faktor utama yang memengaruhi keputusan pelanggan untuk berhenti menggunakan layanan. Dengan memanfaatkan model ini, perusahaan dapat:\n",
    "\n",
    "- Mengidentifikasi pelanggan berisiko tinggi secara lebih dini,\n",
    "\n",
    "- Menyusun strategi retensi yang lebih efisien dan terarah,\n",
    "\n",
    "- Mengoptimalkan proses pengambilan keputusan bisnis berbasis data, dan\n",
    "\n",
    "- Meningkatkan loyalitas pelanggan serta efisiensi operasional secara keseluruhan."
   ]
  },
  {
   "cell_type": "markdown",
   "metadata": {},
   "source": [
    "## Data Understanding"
   ]
  },
  {
   "cell_type": "markdown",
   "metadata": {},
   "source": [
    "Dataset terdiri dari 3941 data\" pelanggan dengan variabel terkait perilaku pelanggan seperti Tenure, DaySinceLastOrder, CashbackAmount, SatisfactionScore, NumberOfDeviceRegistered, WarehouseToHome, serta atribut demografis seperti MaritalStatus dan PreferedOrderCat.\n",
    "\n",
    "Target dari model ini adalah kolom Churn, yaitu :\n",
    "\n",
    "1 = Pelanggan churn\n",
    "\n",
    "0 = Pelanggan tidak churn"
   ]
  },
  {
   "cell_type": "markdown",
   "metadata": {},
   "source": [
    "| Variabel                      | Deskripsi                          |\n",
    "| -------------------------- | ---------------------------------- |\n",
    "| Tenure                   | Lama menjadi pelanggan             |\n",
    "| WarehouseToHome         | Jarak gudang ke rumah (dalam km)   |\n",
    "| NumberOfDeviceRegistered | Jumlah perangkat yang terdaftar    |\n",
    "| PreferedOrderCat         | Kategori pesanan favorit           |\n",
    "| SatisfactionScore        | Skor kepuasan (1–5)                |\n",
    "|MaritalStatus            | Status pernikahan                  |\n",
    "| NumberOfAddress          | Jumlah alamat yang terdaftar       |\n",
    "| Complain               | Apakah pernah komplain (0/1)       |\n",
    "| DaySinceLastOrder       | Hari sejak pemesanan terakhir      |\n",
    "| CashbackAmount          | Jumlah cashback yang diterima      |\n",
    "| Churn                    | Target: 0 = tidak churn, 1 = churn |"
   ]
  },
  {
   "cell_type": "code",
   "execution_count": 40,
   "metadata": {},
   "outputs": [],
   "source": [
    "import pandas as pd\n",
    "import numpy as np\n",
    "import seaborn as sns\n",
    "import matplotlib.pyplot as plt\n",
    "\n",
    "pd.set_option('display.max_columns', None)"
   ]
  },
  {
   "cell_type": "code",
   "execution_count": 41,
   "metadata": {},
   "outputs": [
    {
     "data": {
      "text/html": [
       "<div>\n",
       "<style scoped>\n",
       "    .dataframe tbody tr th:only-of-type {\n",
       "        vertical-align: middle;\n",
       "    }\n",
       "\n",
       "    .dataframe tbody tr th {\n",
       "        vertical-align: top;\n",
       "    }\n",
       "\n",
       "    .dataframe thead th {\n",
       "        text-align: right;\n",
       "    }\n",
       "</style>\n",
       "<table border=\"1\" class=\"dataframe\">\n",
       "  <thead>\n",
       "    <tr style=\"text-align: center;\">\n",
       "      <th></th>\n",
       "      <th>Tenure</th>\n",
       "      <th>WarehouseToHome</th>\n",
       "      <th>NumberOfDeviceRegistered</th>\n",
       "      <th>PreferedOrderCat</th>\n",
       "      <th>SatisfactionScore</th>\n",
       "      <th>MaritalStatus</th>\n",
       "      <th>NumberOfAddress</th>\n",
       "      <th>Complain</th>\n",
       "      <th>DaySinceLastOrder</th>\n",
       "      <th>CashbackAmount</th>\n",
       "      <th>Churn</th>\n",
       "    </tr>\n",
       "  </thead>\n",
       "  <tbody>\n",
       "    <tr>\n",
       "      <th>0</th>\n",
       "      <td>15.0</td>\n",
       "      <td>29.0</td>\n",
       "      <td>4</td>\n",
       "      <td>Laptop &amp; Accessory</td>\n",
       "      <td>3</td>\n",
       "      <td>Single</td>\n",
       "      <td>2</td>\n",
       "      <td>0</td>\n",
       "      <td>7.0</td>\n",
       "      <td>143.32</td>\n",
       "      <td>0</td>\n",
       "    </tr>\n",
       "    <tr>\n",
       "      <th>1</th>\n",
       "      <td>7.0</td>\n",
       "      <td>25.0</td>\n",
       "      <td>4</td>\n",
       "      <td>Mobile</td>\n",
       "      <td>1</td>\n",
       "      <td>Married</td>\n",
       "      <td>2</td>\n",
       "      <td>0</td>\n",
       "      <td>7.0</td>\n",
       "      <td>129.29</td>\n",
       "      <td>0</td>\n",
       "    </tr>\n",
       "    <tr>\n",
       "      <th>2</th>\n",
       "      <td>27.0</td>\n",
       "      <td>13.0</td>\n",
       "      <td>3</td>\n",
       "      <td>Laptop &amp; Accessory</td>\n",
       "      <td>1</td>\n",
       "      <td>Married</td>\n",
       "      <td>5</td>\n",
       "      <td>0</td>\n",
       "      <td>7.0</td>\n",
       "      <td>168.54</td>\n",
       "      <td>0</td>\n",
       "    </tr>\n",
       "    <tr>\n",
       "      <th>3</th>\n",
       "      <td>20.0</td>\n",
       "      <td>25.0</td>\n",
       "      <td>4</td>\n",
       "      <td>Fashion</td>\n",
       "      <td>3</td>\n",
       "      <td>Divorced</td>\n",
       "      <td>7</td>\n",
       "      <td>0</td>\n",
       "      <td>NaN</td>\n",
       "      <td>230.27</td>\n",
       "      <td>0</td>\n",
       "    </tr>\n",
       "    <tr>\n",
       "      <th>4</th>\n",
       "      <td>30.0</td>\n",
       "      <td>15.0</td>\n",
       "      <td>4</td>\n",
       "      <td>Others</td>\n",
       "      <td>4</td>\n",
       "      <td>Single</td>\n",
       "      <td>8</td>\n",
       "      <td>0</td>\n",
       "      <td>8.0</td>\n",
       "      <td>322.17</td>\n",
       "      <td>0</td>\n",
       "    </tr>\n",
       "  </tbody>\n",
       "</table>\n",
       "</div>"
      ],
      "text/plain": [
       "   Tenure  WarehouseToHome  NumberOfDeviceRegistered   PreferedOrderCat   SatisfactionScore MaritalStatus  \\\n",
       "0   15.0        29.0                    4             Laptop & Accessory          3              Single     \n",
       "1    7.0        25.0                    4                         Mobile          1             Married     \n",
       "2   27.0        13.0                    3             Laptop & Accessory          1             Married     \n",
       "3   20.0        25.0                    4                        Fashion          3            Divorced     \n",
       "4   30.0        15.0                    4                         Others          4              Single     \n",
       "\n",
       "   NumberOfAddress  Complain  DaySinceLastOrder  CashbackAmount  Churn  \n",
       "0         2             0            7.0             143.32        0    \n",
       "1         2             0            7.0             129.29        0    \n",
       "2         5             0            7.0             168.54        0    \n",
       "3         7             0            NaN             230.27        0    \n",
       "4         8             0            8.0             322.17        0    "
      ]
     },
     "execution_count": 41,
     "metadata": {},
     "output_type": "execute_result"
    }
   ],
   "source": [
    "df = pd.read_csv('data_ecommerce_customer_churn.csv')\n",
    "df.head()"
   ]
  },
  {
   "cell_type": "markdown",
   "metadata": {},
   "source": [
    "## EDA"
   ]
  },
  {
   "cell_type": "markdown",
   "metadata": {},
   "source": [
    "**Notes**       \n",
    "Exploratory Data Analysis (EDA) adalah proses awal dalam analisis data yang bertujuan untuk memahami struktur, karakteristik, dan pola dari dataset sebelum melakukan pemodelan atau pengambilan keputusan.\n"
   ]
  },
  {
   "cell_type": "markdown",
   "metadata": {},
   "source": [
    "### Data Overview"
   ]
  },
  {
   "cell_type": "code",
   "execution_count": 42,
   "metadata": {},
   "outputs": [
    {
     "data": {
      "text/plain": [
       "3941"
      ]
     },
     "execution_count": 42,
     "metadata": {},
     "output_type": "execute_result"
    }
   ],
   "source": [
    "df.shape[0]"
   ]
  },
  {
   "cell_type": "code",
   "execution_count": 43,
   "metadata": {},
   "outputs": [
    {
     "name": "stdout",
     "output_type": "stream",
     "text": [
      "<class 'pandas.core.frame.DataFrame'>\n",
      "RangeIndex: 3941 entries, 0 to 3940\n",
      "Data columns (total 11 columns):\n",
      " #   Column                    Non-Null Count  Dtype  \n",
      "---  ------                    --------------  -----  \n",
      " 0   Tenure                    3747 non-null   float64\n",
      " 1   WarehouseToHome           3772 non-null   float64\n",
      " 2   NumberOfDeviceRegistered  3941 non-null   int64  \n",
      " 3   PreferedOrderCat          3941 non-null   object \n",
      " 4   SatisfactionScore         3941 non-null   int64  \n",
      " 5   MaritalStatus             3941 non-null   object \n",
      " 6   NumberOfAddress           3941 non-null   int64  \n",
      " 7   Complain                  3941 non-null   int64  \n",
      " 8   DaySinceLastOrder         3728 non-null   float64\n",
      " 9   CashbackAmount            3941 non-null   float64\n",
      " 10  Churn                     3941 non-null   int64  \n",
      "dtypes: float64(4), int64(5), object(2)\n",
      "memory usage: 338.8+ KB\n"
     ]
    }
   ],
   "source": [
    "df.info()"
   ]
  },
  {
   "cell_type": "code",
   "execution_count": 44,
   "metadata": {},
   "outputs": [],
   "source": [
    "df_revised = df"
   ]
  },
  {
   "cell_type": "markdown",
   "metadata": {},
   "source": [
    "Membuat Var baru agar df lamanya tetap ada apabila terjadi error\n"
   ]
  },
  {
   "cell_type": "markdown",
   "metadata": {},
   "source": [
    "### Checking Missing Value"
   ]
  },
  {
   "cell_type": "code",
   "execution_count": 45,
   "metadata": {},
   "outputs": [
    {
     "name": "stdout",
     "output_type": "stream",
     "text": [
      "Tenure                      194\n",
      "WarehouseToHome             169\n",
      "NumberOfDeviceRegistered      0\n",
      "PreferedOrderCat              0\n",
      "SatisfactionScore             0\n",
      "MaritalStatus                 0\n",
      "NumberOfAddress               0\n",
      "Complain                      0\n",
      "DaySinceLastOrder           213\n",
      "CashbackAmount                0\n",
      "Churn                         0\n",
      "dtype: int64\n"
     ]
    }
   ],
   "source": [
    "print(df.isnull().sum())"
   ]
  },
  {
   "cell_type": "markdown",
   "metadata": {},
   "source": [
    "Ternyata setelah di cek masih ada data null atau kosong di data ini yang dimana totalnya adalah **576**\n",
    "- Tenure : **194**\n",
    "- WarehouseToHome : **169**\n",
    "- DaySinceLastOrder : **213**"
   ]
  },
  {
   "cell_type": "markdown",
   "metadata": {},
   "source": [
    "Dengan Missing Value yang terbilang sangat kecil, yaitu\n",
    "| Kolom             | Missing | Persentase (%) |\n",
    "| ----------------- | ------- | -------------- |\n",
    "| Tenure            | 194     | \\~4.92%        |\n",
    "| WarehouseToHome   | 169     | \\~4.29%        |\n",
    "| DaySinceLastOrder | 213     | \\~5.41%        |\n",
    "\n",
    "saya akan menggunakan metode sederhana yaitu antara **mean, median, dan modus.**"
   ]
  },
  {
   "cell_type": "markdown",
   "metadata": {},
   "source": [
    "### Checking Outliers"
   ]
  },
  {
   "cell_type": "code",
   "execution_count": 46,
   "metadata": {},
   "outputs": [
    {
     "data": {
      "image/png": "[encoded data removed]",
      "text/plain": [
       "<Figure size 2000x800 with 9 Axes>"
      ]
     },
     "metadata": {},
     "output_type": "display_data"
    }
   ],
   "source": [
    "import matplotlib.pyplot as plt\n",
    "import seaborn as sns\n",
    "\n",
    "\n",
    "plt.figure(figsize=(20, 8))\n",
    "for i, column in enumerate(df.select_dtypes(include=['float64', 'int64']).columns):\n",
    "    plt.subplot(2, 5, i+1)  \n",
    "    sns.boxplot(data=df, y=column)\n",
    "    plt.title(f'Boxplot of {column}')\n",
    "\n",
    "plt.tight_layout()\n",
    "plt.show()\n"
   ]
  },
  {
   "cell_type": "code",
   "execution_count": 47,
   "metadata": {},
   "outputs": [
    {
     "name": "stdout",
     "output_type": "stream",
     "text": [
      "Jumlah outlier untuk kolom CashbackAmount: 316\n"
     ]
    }
   ],
   "source": [
    "column = 'CashbackAmount'\n",
    "\n",
    "Q1 = df[column].quantile(0.25)\n",
    "Q3 = df[column].quantile(0.75)\n",
    "IQR = Q3 - Q1\n",
    "\n",
    "lower_bound = Q1 - 1.5 * IQR\n",
    "upper_bound = Q3 + 1.5 * IQR\n",
    "\n",
    "outliers = df[(df[column] < lower_bound) | (df[column] > upper_bound)]\n",
    "print(f\"Jumlah outlier untuk kolom {column}: {outliers.shape[0]}\")"
   ]
  },
  {
   "cell_type": "markdown",
   "metadata": {},
   "source": [
    "Terdapat 316 outlier dari total 3941 data. Outlier ini merujuk pada nilai-nilai cashback yang terletak jauh di luar rentang nilai umum yang diterima oleh mayoritas data.\n",
    "\n",
    "Biasanya, outlier terjadi pada nilai yang sangat tinggi atau sangat rendah jika dibandingkan dengan nilai lainnya. Dalam konteks CashbackAmount, outlier ini bisa saja terjadi karena beberapa pelanggan mendapatkan cashback yang sangat besar atau sangat kecil dibandingkan dengan kebanyakan pelanggan lainnya. Hal ini bisa terjadi karena kebijakan promosi khusus, kesalahan input data, atau kejadian-kejadian tertentu yang tidak mencerminkan pola transaksi yang umum.\n",
    "\n",
    "Dalam analisis ini, saya memutuskan untuk tidak menghilangkan outlier pada variabel CashbackAmount karena outlier tersebut dapat mewakili pola konsumsi atau perilaku pelanggan yang spesial dan berbeda. Misalnya, pelanggan yang menerima cashback besar mungkin merupakan pelanggan loyal atau premium yang melakukan pembelian dalam jumlah besar. Mereka ini kemungkinan adalah pelanggan yang sangat berharga bagi bisnis, sehingga sangat penting bagi model untuk dapat mengenali mereka dengan baik.\n",
    "\n",
    "Selain itu, dalam konteks churn, pelanggan yang mendapatkan cashback besar cenderung lebih kurang berisiko untuk churn, karena mereka merasa mendapatkan keuntungan lebih dari transaksi mereka. Dengan mempertahankan outlier ini, model saya dapat lebih akurat dalam mengidentifikasi pelanggan yang memiliki potensi untuk tetap loyal dan meminimalkan risiko kehilangan pelanggan."
   ]
  },
  {
   "cell_type": "markdown",
   "metadata": {},
   "source": [
    "### Checking Target Variable"
   ]
  },
  {
   "cell_type": "code",
   "execution_count": 48,
   "metadata": {},
   "outputs": [
    {
     "data": {
      "text/plain": [
       "Churn\n",
       "0    3267\n",
       "1     674\n",
       "Name: count, dtype: int64"
      ]
     },
     "execution_count": 48,
     "metadata": {},
     "output_type": "execute_result"
    }
   ],
   "source": [
    "df['Churn'].value_counts()"
   ]
  },
  {
   "cell_type": "markdown",
   "metadata": {},
   "source": [
    "Bisa dilihat bahwa jumlah pelanggan yang tidak churn (0) jauh lebih banyak dibandingkan dengan pelanggan yang churn (1). Secara spesifik, dari total 3941 data, ada 3267 pelanggan tidak churn dan hanya 674 pelanggan churn. Ini artinya, ada ketidakseimbangan yang signifikan antara kedua kelas tersebut.\n",
    "\n",
    "Ketidakseimbangan kelas ini dapat menjadi masalah dalam pengembangan model prediksi, karena model cenderung lebih mempelajari pola pada kelas mayoritas (dalam hal ini pelanggan yang tidak churn), sementara pola pada kelas minoritas (pelanggan churn) bisa terabaikan. Akibatnya, model bisa saja memprediksi bahwa semua pelanggan tidak churn, karena itu adalah prediksi yang paling sering muncul, yang tentunya tidak memberikan nilai tambah bagi pengambilan keputusan, terutama dalam hal mencegah churn."
   ]
  },
  {
   "cell_type": "markdown",
   "metadata": {},
   "source": [
    "## Data Preprocessing"
   ]
  },
  {
   "cell_type": "markdown",
   "metadata": {},
   "source": [
    "### Handling Missing Value"
   ]
  },
  {
   "cell_type": "code",
   "execution_count": 49,
   "metadata": {},
   "outputs": [
    {
     "data": {
      "text/plain": [
       "count    3747.000000\n",
       "mean       10.081398\n",
       "std         8.498864\n",
       "min         0.000000\n",
       "25%         2.000000\n",
       "50%         9.000000\n",
       "75%        16.000000\n",
       "max        61.000000\n",
       "Name: Tenure, dtype: float64"
      ]
     },
     "execution_count": 49,
     "metadata": {},
     "output_type": "execute_result"
    }
   ],
   "source": [
    "df['Tenure'].describe()"
   ]
  },
  {
   "cell_type": "code",
   "execution_count": 50,
   "metadata": {},
   "outputs": [
    {
     "data": {
      "image/png": "[encoded data removed]",
      "text/plain": [
       "<Figure size 640x480 with 1 Axes>"
      ]
     },
     "metadata": {},
     "output_type": "display_data"
    }
   ],
   "source": [
    "sns.boxplot(y=df['Tenure'])\n",
    "plt.title('Boxplot Tenure')\n",
    "plt.show()"
   ]
  },
  {
   "cell_type": "markdown",
   "metadata": {},
   "source": [
    "Mengingat jumlah outlier pada kolom Tenure sangat sedikit dan tidak memberikan pengaruh signifikan terhadap distribusi data, saya memutuskan untuk menggunakan nilai median sebagai metode imputasi. Median dipilih karena lebih tahan terhadap outlier dibandingkan mean, sehingga mampu menjaga konsistensi data saat mengisi nilai yang hilang."
   ]
  },
  {
   "cell_type": "code",
   "execution_count": 51,
   "metadata": {},
   "outputs": [
    {
     "name": "stderr",
     "output_type": "stream",
     "text": [
      "C:\\Users\\Ridho\\AppData\\Local\\Temp\\ipykernel_22296\\2561048308.py:1: FutureWarning: A value is trying to be set on a copy of a DataFrame or Series through chained assignment using an inplace method.\n",
      "The behavior will change in pandas 3.0. This inplace method will never work because the intermediate object on which we are setting values always behaves as a copy.\n",
      "\n",
      "For example, when doing 'df[col].method(value, inplace=True)', try using 'df.method({col: value}, inplace=True)' or df[col] = df[col].method(value) instead, to perform the operation inplace on the original object.\n",
      "\n",
      "\n",
      "  df_revised['Tenure'].fillna(df_revised['Tenure'].median(), inplace=True)\n"
     ]
    },
    {
     "data": {
      "text/plain": [
       "np.int64(0)"
      ]
     },
     "execution_count": 51,
     "metadata": {},
     "output_type": "execute_result"
    }
   ],
   "source": [
    "df_revised['Tenure'].fillna(df_revised['Tenure'].median(), inplace=True)\n",
    "df_revised['Tenure'].isnull().sum()"
   ]
  },
  {
   "cell_type": "code",
   "execution_count": 52,
   "metadata": {},
   "outputs": [
    {
     "data": {
      "text/plain": [
       "count    3772.000000\n",
       "mean       15.650583\n",
       "std         8.452301\n",
       "min         5.000000\n",
       "25%         9.000000\n",
       "50%        14.000000\n",
       "75%        21.000000\n",
       "max       127.000000\n",
       "Name: WarehouseToHome, dtype: float64"
      ]
     },
     "execution_count": 52,
     "metadata": {},
     "output_type": "execute_result"
    }
   ],
   "source": [
    "df['WarehouseToHome'].describe()"
   ]
  },
  {
   "cell_type": "code",
   "execution_count": 53,
   "metadata": {},
   "outputs": [
    {
     "data": {
      "image/png": "[encoded data removed]",
      "text/plain": [
       "<Figure size 640x480 with 1 Axes>"
      ]
     },
     "metadata": {},
     "output_type": "display_data"
    }
   ],
   "source": [
    "sns.boxplot(y=df['WarehouseToHome'])\n",
    "plt.title('WarehouseToHome')\n",
    "plt.show()"
   ]
  },
  {
   "cell_type": "markdown",
   "metadata": {},
   "source": [
    "Sama seperti feature sebelumnya, jumlah outlier sangat sedikit dan tidak memberikan pengaruh signifikan terhadap distribusi data. Oleh karena itu, saya memilih untuk mengisi nilai-nilai yang hilang dengan **median**. Dengan metode median, akan mendapat nilai yang lebih stabil dan tidak terpengaruh oleh outlier. Sehingga akan memberikan hasil yang lebih representatif bagi data yang hilang tanpa mengganggu distribusi data yang ada."
   ]
  },
  {
   "cell_type": "code",
   "execution_count": 54,
   "metadata": {},
   "outputs": [
    {
     "name": "stderr",
     "output_type": "stream",
     "text": [
      "C:\\Users\\Ridho\\AppData\\Local\\Temp\\ipykernel_22296\\3506373531.py:1: FutureWarning: A value is trying to be set on a copy of a DataFrame or Series through chained assignment using an inplace method.\n",
      "The behavior will change in pandas 3.0. This inplace method will never work because the intermediate object on which we are setting values always behaves as a copy.\n",
      "\n",
      "For example, when doing 'df[col].method(value, inplace=True)', try using 'df.method({col: value}, inplace=True)' or df[col] = df[col].method(value) instead, to perform the operation inplace on the original object.\n",
      "\n",
      "\n",
      "  df_revised['WarehouseToHome'].fillna(df_revised['WarehouseToHome'].median(), inplace=True)\n"
     ]
    },
    {
     "data": {
      "text/plain": [
       "np.int64(0)"
      ]
     },
     "execution_count": 54,
     "metadata": {},
     "output_type": "execute_result"
    }
   ],
   "source": [
    "df_revised['WarehouseToHome'].fillna(df_revised['WarehouseToHome'].median(), inplace=True)\n",
    "df_revised['WarehouseToHome'].isnull().sum()"
   ]
  },
  {
   "cell_type": "code",
   "execution_count": 55,
   "metadata": {},
   "outputs": [
    {
     "data": {
      "text/plain": [
       "count    3728.000000\n",
       "mean        4.531652\n",
       "std         3.667648\n",
       "min         0.000000\n",
       "25%         2.000000\n",
       "50%         3.000000\n",
       "75%         7.000000\n",
       "max        46.000000\n",
       "Name: DaySinceLastOrder, dtype: float64"
      ]
     },
     "execution_count": 55,
     "metadata": {},
     "output_type": "execute_result"
    }
   ],
   "source": [
    "df['DaySinceLastOrder'].describe()"
   ]
  },
  {
   "cell_type": "code",
   "execution_count": 56,
   "metadata": {},
   "outputs": [
    {
     "data": {
      "image/png": "[encoded data removed]",
      "text/plain": [
       "<Figure size 640x480 with 1 Axes>"
      ]
     },
     "metadata": {},
     "output_type": "display_data"
    }
   ],
   "source": [
    "sns.boxplot(y=df['DaySinceLastOrder'])\n",
    "plt.title('DaySinceLastOrder')\n",
    "plt.show()"
   ]
  },
  {
   "cell_type": "markdown",
   "metadata": {},
   "source": [
    "Sama seperti feature sebelumnya, walaupun jumlah outliernya lebih banyak dari sebelumnya, dampaknya tidak memberikan pengaruh signifikan terhadap distribusi data. Oleh karena itu, saya memilih untuk mengisi nilai-nilai yang hilang dengan **median**. Dengan metode median, akan mendapat nilai yang lebih stabil dan tidak terpengaruh oleh outlier. Sehingga akan memberikan hasil yang lebih representatif bagi data yang hilang tanpa mengganggu distribusi data yang ada."
   ]
  },
  {
   "cell_type": "code",
   "execution_count": 57,
   "metadata": {},
   "outputs": [
    {
     "name": "stderr",
     "output_type": "stream",
     "text": [
      "C:\\Users\\Ridho\\AppData\\Local\\Temp\\ipykernel_22296\\3283964387.py:1: FutureWarning: A value is trying to be set on a copy of a DataFrame or Series through chained assignment using an inplace method.\n",
      "The behavior will change in pandas 3.0. This inplace method will never work because the intermediate object on which we are setting values always behaves as a copy.\n",
      "\n",
      "For example, when doing 'df[col].method(value, inplace=True)', try using 'df.method({col: value}, inplace=True)' or df[col] = df[col].method(value) instead, to perform the operation inplace on the original object.\n",
      "\n",
      "\n",
      "  df_revised['DaySinceLastOrder'].fillna(df_revised['DaySinceLastOrder'].median(), inplace=True)\n"
     ]
    },
    {
     "data": {
      "text/plain": [
       "np.int64(0)"
      ]
     },
     "execution_count": 57,
     "metadata": {},
     "output_type": "execute_result"
    }
   ],
   "source": [
    "df_revised['DaySinceLastOrder'].fillna(df_revised['DaySinceLastOrder'].median(), inplace=True)\n",
    "df_revised['DaySinceLastOrder'].isnull().sum()"
   ]
  },
  {
   "cell_type": "code",
   "execution_count": 58,
   "metadata": {},
   "outputs": [
    {
     "data": {
      "text/plain": [
       "Tenure                      0\n",
       "WarehouseToHome             0\n",
       "NumberOfDeviceRegistered    0\n",
       "PreferedOrderCat            0\n",
       "SatisfactionScore           0\n",
       "MaritalStatus               0\n",
       "NumberOfAddress             0\n",
       "Complain                    0\n",
       "DaySinceLastOrder           0\n",
       "CashbackAmount              0\n",
       "Churn                       0\n",
       "dtype: int64"
      ]
     },
     "execution_count": 58,
     "metadata": {},
     "output_type": "execute_result"
    }
   ],
   "source": [
    "df_revised.isna().sum()"
   ]
  },
  {
   "cell_type": "markdown",
   "metadata": {},
   "source": [
    "**Semua Missing Value sudah teratasi**"
   ]
  },
  {
   "cell_type": "markdown",
   "metadata": {},
   "source": [
    "### Corelations and Encode Object Variable"
   ]
  },
  {
   "cell_type": "markdown",
   "metadata": {},
   "source": [
    "Saya melakukan encoding pada variabel PreferedOrderCat dan MaritalStatus karena keduanya merupakan variabel kategorikal yang mempengaruhi prediksi model. Encoding variabel kategorikal diperlukan agar model machine learning dapat memproses informasi yang berbentuk teks atau kategori menjadi format numerik yang bisa dipahami oleh algoritma."
   ]
  },
  {
   "cell_type": "markdown",
   "metadata": {},
   "source": [
    "**PreferedOrderCat**\n",
    "\n",
    "Variabel PreferedOrderCat menggambarkan kategori pesanan yang disukai oleh pelanggan. Setiap kategori pesanan ini berpotensi memberikan informasi penting mengenai pola pembelian pelanggan, yang pada gilirannya dapat mempengaruhi perilaku pelanggan terhadap churn. Sebagai contoh, pelanggan yang lebih sering membeli dalam kategori tertentu mungkin menunjukkan preferensi yang lebih kuat terhadap produk tersebut. \n",
    "\n",
    "**MaritalStatus**\n",
    "\n",
    "Sementara itu, variabel MaritalStatus memberikan informasi tentang status perkawinan pelanggan. Status perkawinan bisa memberikan gambaran mengenai perilaku pembelian pelanggan yang mungkin berbeda-beda tergantung pada kondisi sosial mereka. Misalnya, pelanggan yang sudah menikah bisa memiliki pola pembelian yang berbeda dibandingkan dengan yang belum menikah. Dengan melakukan encoding pada variabel ini, saya memastikan bahwa model dapat mengenali perbedaan pola antara status perkawinan yang berbeda dan memanfaatkannya untuk prediksi churn yang lebih akurat."
   ]
  },
  {
   "cell_type": "code",
   "execution_count": 59,
   "metadata": {},
   "outputs": [
    {
     "data": {
      "text/html": [
       "<div>\n",
       "<style scoped>\n",
       "    .dataframe tbody tr th:only-of-type {\n",
       "        vertical-align: middle;\n",
       "    }\n",
       "\n",
       "    .dataframe tbody tr th {\n",
       "        vertical-align: top;\n",
       "    }\n",
       "\n",
       "    .dataframe thead th {\n",
       "        text-align: right;\n",
       "    }\n",
       "</style>\n",
       "<table border=\"1\" class=\"dataframe\">\n",
       "  <thead>\n",
       "    <tr style=\"text-align: center;\">\n",
       "      <th></th>\n",
       "      <th>Tenure</th>\n",
       "      <th>WarehouseToHome</th>\n",
       "      <th>NumberOfDeviceRegistered</th>\n",
       "      <th>PreferedOrderCat</th>\n",
       "      <th>SatisfactionScore</th>\n",
       "      <th>MaritalStatus</th>\n",
       "      <th>NumberOfAddress</th>\n",
       "      <th>Complain</th>\n",
       "      <th>DaySinceLastOrder</th>\n",
       "      <th>CashbackAmount</th>\n",
       "      <th>Churn</th>\n",
       "    </tr>\n",
       "  </thead>\n",
       "  <tbody>\n",
       "    <tr>\n",
       "      <th>0</th>\n",
       "      <td>15.0</td>\n",
       "      <td>29.0</td>\n",
       "      <td>4</td>\n",
       "      <td>Laptop &amp; Accessory</td>\n",
       "      <td>3</td>\n",
       "      <td>Single</td>\n",
       "      <td>2</td>\n",
       "      <td>0</td>\n",
       "      <td>7.0</td>\n",
       "      <td>143.32</td>\n",
       "      <td>0</td>\n",
       "    </tr>\n",
       "    <tr>\n",
       "      <th>1</th>\n",
       "      <td>7.0</td>\n",
       "      <td>25.0</td>\n",
       "      <td>4</td>\n",
       "      <td>Mobile</td>\n",
       "      <td>1</td>\n",
       "      <td>Married</td>\n",
       "      <td>2</td>\n",
       "      <td>0</td>\n",
       "      <td>7.0</td>\n",
       "      <td>129.29</td>\n",
       "      <td>0</td>\n",
       "    </tr>\n",
       "    <tr>\n",
       "      <th>2</th>\n",
       "      <td>27.0</td>\n",
       "      <td>13.0</td>\n",
       "      <td>3</td>\n",
       "      <td>Laptop &amp; Accessory</td>\n",
       "      <td>1</td>\n",
       "      <td>Married</td>\n",
       "      <td>5</td>\n",
       "      <td>0</td>\n",
       "      <td>7.0</td>\n",
       "      <td>168.54</td>\n",
       "      <td>0</td>\n",
       "    </tr>\n",
       "    <tr>\n",
       "      <th>3</th>\n",
       "      <td>20.0</td>\n",
       "      <td>25.0</td>\n",
       "      <td>4</td>\n",
       "      <td>Fashion</td>\n",
       "      <td>3</td>\n",
       "      <td>Divorced</td>\n",
       "      <td>7</td>\n",
       "      <td>0</td>\n",
       "      <td>3.0</td>\n",
       "      <td>230.27</td>\n",
       "      <td>0</td>\n",
       "    </tr>\n",
       "    <tr>\n",
       "      <th>4</th>\n",
       "      <td>30.0</td>\n",
       "      <td>15.0</td>\n",
       "      <td>4</td>\n",
       "      <td>Others</td>\n",
       "      <td>4</td>\n",
       "      <td>Single</td>\n",
       "      <td>8</td>\n",
       "      <td>0</td>\n",
       "      <td>8.0</td>\n",
       "      <td>322.17</td>\n",
       "      <td>0</td>\n",
       "    </tr>\n",
       "  </tbody>\n",
       "</table>\n",
       "</div>"
      ],
      "text/plain": [
       "   Tenure  WarehouseToHome  NumberOfDeviceRegistered   PreferedOrderCat   SatisfactionScore MaritalStatus  \\\n",
       "0   15.0        29.0                    4             Laptop & Accessory          3              Single     \n",
       "1    7.0        25.0                    4                         Mobile          1             Married     \n",
       "2   27.0        13.0                    3             Laptop & Accessory          1             Married     \n",
       "3   20.0        25.0                    4                        Fashion          3            Divorced     \n",
       "4   30.0        15.0                    4                         Others          4              Single     \n",
       "\n",
       "   NumberOfAddress  Complain  DaySinceLastOrder  CashbackAmount  Churn  \n",
       "0         2             0            7.0             143.32        0    \n",
       "1         2             0            7.0             129.29        0    \n",
       "2         5             0            7.0             168.54        0    \n",
       "3         7             0            3.0             230.27        0    \n",
       "4         8             0            8.0             322.17        0    "
      ]
     },
     "execution_count": 59,
     "metadata": {},
     "output_type": "execute_result"
    }
   ],
   "source": [
    "df.head()"
   ]
  },
  {
   "cell_type": "code",
   "execution_count": 60,
   "metadata": {},
   "outputs": [],
   "source": [
    "from sklearn.preprocessing import LabelEncoder\n",
    "obj_cols = df_revised.select_dtypes(include='object').columns\n",
    "encoder = LabelEncoder()\n",
    "for col in obj_cols:\n",
    "    df_revised[col] = encoder.fit_transform(df_revised[col])"
   ]
  },
  {
   "cell_type": "code",
   "execution_count": 61,
   "metadata": {},
   "outputs": [
    {
     "data": {
      "text/html": [
       "<div>\n",
       "<style scoped>\n",
       "    .dataframe tbody tr th:only-of-type {\n",
       "        vertical-align: middle;\n",
       "    }\n",
       "\n",
       "    .dataframe tbody tr th {\n",
       "        vertical-align: top;\n",
       "    }\n",
       "\n",
       "    .dataframe thead th {\n",
       "        text-align: right;\n",
       "    }\n",
       "</style>\n",
       "<table border=\"1\" class=\"dataframe\">\n",
       "  <thead>\n",
       "    <tr style=\"text-align: center;\">\n",
       "      <th></th>\n",
       "      <th>Tenure</th>\n",
       "      <th>WarehouseToHome</th>\n",
       "      <th>NumberOfDeviceRegistered</th>\n",
       "      <th>PreferedOrderCat</th>\n",
       "      <th>SatisfactionScore</th>\n",
       "      <th>MaritalStatus</th>\n",
       "      <th>NumberOfAddress</th>\n",
       "      <th>Complain</th>\n",
       "      <th>DaySinceLastOrder</th>\n",
       "      <th>CashbackAmount</th>\n",
       "      <th>Churn</th>\n",
       "    </tr>\n",
       "  </thead>\n",
       "  <tbody>\n",
       "    <tr>\n",
       "      <th>0</th>\n",
       "      <td>15.0</td>\n",
       "      <td>29.0</td>\n",
       "      <td>4</td>\n",
       "      <td>2</td>\n",
       "      <td>3</td>\n",
       "      <td>2</td>\n",
       "      <td>2</td>\n",
       "      <td>0</td>\n",
       "      <td>7.0</td>\n",
       "      <td>143.32</td>\n",
       "      <td>0</td>\n",
       "    </tr>\n",
       "    <tr>\n",
       "      <th>1</th>\n",
       "      <td>7.0</td>\n",
       "      <td>25.0</td>\n",
       "      <td>4</td>\n",
       "      <td>3</td>\n",
       "      <td>1</td>\n",
       "      <td>1</td>\n",
       "      <td>2</td>\n",
       "      <td>0</td>\n",
       "      <td>7.0</td>\n",
       "      <td>129.29</td>\n",
       "      <td>0</td>\n",
       "    </tr>\n",
       "    <tr>\n",
       "      <th>2</th>\n",
       "      <td>27.0</td>\n",
       "      <td>13.0</td>\n",
       "      <td>3</td>\n",
       "      <td>2</td>\n",
       "      <td>1</td>\n",
       "      <td>1</td>\n",
       "      <td>5</td>\n",
       "      <td>0</td>\n",
       "      <td>7.0</td>\n",
       "      <td>168.54</td>\n",
       "      <td>0</td>\n",
       "    </tr>\n",
       "    <tr>\n",
       "      <th>3</th>\n",
       "      <td>20.0</td>\n",
       "      <td>25.0</td>\n",
       "      <td>4</td>\n",
       "      <td>0</td>\n",
       "      <td>3</td>\n",
       "      <td>0</td>\n",
       "      <td>7</td>\n",
       "      <td>0</td>\n",
       "      <td>3.0</td>\n",
       "      <td>230.27</td>\n",
       "      <td>0</td>\n",
       "    </tr>\n",
       "    <tr>\n",
       "      <th>4</th>\n",
       "      <td>30.0</td>\n",
       "      <td>15.0</td>\n",
       "      <td>4</td>\n",
       "      <td>5</td>\n",
       "      <td>4</td>\n",
       "      <td>2</td>\n",
       "      <td>8</td>\n",
       "      <td>0</td>\n",
       "      <td>8.0</td>\n",
       "      <td>322.17</td>\n",
       "      <td>0</td>\n",
       "    </tr>\n",
       "  </tbody>\n",
       "</table>\n",
       "</div>"
      ],
      "text/plain": [
       "   Tenure  WarehouseToHome  NumberOfDeviceRegistered  PreferedOrderCat  SatisfactionScore  MaritalStatus  \\\n",
       "0   15.0        29.0                    4                     2                 3                2         \n",
       "1    7.0        25.0                    4                     3                 1                1         \n",
       "2   27.0        13.0                    3                     2                 1                1         \n",
       "3   20.0        25.0                    4                     0                 3                0         \n",
       "4   30.0        15.0                    4                     5                 4                2         \n",
       "\n",
       "   NumberOfAddress  Complain  DaySinceLastOrder  CashbackAmount  Churn  \n",
       "0         2             0            7.0             143.32        0    \n",
       "1         2             0            7.0             129.29        0    \n",
       "2         5             0            7.0             168.54        0    \n",
       "3         7             0            3.0             230.27        0    \n",
       "4         8             0            8.0             322.17        0    "
      ]
     },
     "execution_count": 61,
     "metadata": {},
     "output_type": "execute_result"
    }
   ],
   "source": [
    "df_revised.head()"
   ]
  },
  {
   "cell_type": "markdown",
   "metadata": {},
   "source": [
    "Saya menggunakan **Label Encoding** sebagai Encoder, Karena Kategori yang dimiliki 2 Variabel tersebut tidak terlalu banyak."
   ]
  },
  {
   "cell_type": "code",
   "execution_count": 62,
   "metadata": {},
   "outputs": [
    {
     "name": "stdout",
     "output_type": "stream",
     "text": [
      "Churn                       1.000000\n",
      "Complain                    0.261450\n",
      "MaritalStatus               0.142085\n",
      "PreferedOrderCat            0.124886\n",
      "NumberOfDeviceRegistered    0.108464\n",
      "SatisfactionScore           0.107541\n",
      "WarehouseToHome             0.066391\n",
      "NumberOfAddress             0.039195\n",
      "DaySinceLastOrder          -0.156002\n",
      "CashbackAmount             -0.161535\n",
      "Tenure                     -0.345922\n",
      "Name: Churn, dtype: float64\n"
     ]
    }
   ],
   "source": [
    "correlation_matrix = df_revised.corr(numeric_only=True)\n",
    "churn_correlation = correlation_matrix['Churn'].sort_values(ascending=False)\n",
    "print(churn_correlation)\n"
   ]
  },
  {
   "cell_type": "markdown",
   "metadata": {},
   "source": [
    "Terdapat 4 Features yang menjadi daya tarik saya, yaitu\n",
    "| Fitur                                                                        | Korelasi    | Penjelasan                                                                                                 |\n",
    "| ---------------------------------------------------------------------------- | ----------- | ---------------------------------------------------------------------------------------------------------- |\n",
    "| Tenure                                                                    | -0.346      | Korelasi negatif kuat yang dimana semakin lama pelanggan berada, makin kecil kemungkinan churn. **(sangat relevan)** |\n",
    "| CashbackAmount                                                             | -0.161      | Korelasi negatif sedang yang dimana semakin tinggi cashback, makin kecil kemungkinan churn.                          |\n",
    "| DaySinceLastOrder                                                          | -0.156      | Negatif juga yang dimana makin lama tidak order, makin besar kemungkinan churn. **(logis)**                          |\n",
    "| Complain                                                                   | 0.261       | Positif cukup kuat yang dimana pelanggan yang komplain lebih mungkin churn.                                          |\n",
    "                                           |\n"
   ]
  },
  {
   "cell_type": "markdown",
   "metadata": {},
   "source": [
    "### Scalling"
   ]
  },
  {
   "cell_type": "markdown",
   "metadata": {},
   "source": [
    "Scaling diperlukan terutama untuk model-model yang sensitif terhadap rentang dan skala data, seperti Decision Tree dan Random Forest, meskipun model-model ini tidak se-sensitif algoritma seperti SVM atau k-NN. Namun, dengan melakukan scaling, kita dapat memastikan bahwa model dapat menangani fitur-fitur yang memiliki unit atau rentang nilai yang sangat berbeda, seperti Tenure (yang mungkin berupa angka besar dalam bulan) dan CashbackAmount (yang lebih kecil atau bahkan bernilai nol dalam beberapa kasus)."
   ]
  },
  {
   "cell_type": "code",
   "execution_count": 63,
   "metadata": {},
   "outputs": [],
   "source": [
    "from sklearn.preprocessing import MinMaxScaler\n",
    "\n",
    "x = df_revised.drop('Churn', axis=1)\n",
    "y = df_revised['Churn']\n",
    "\n",
    "scaler = MinMaxScaler()\n",
    "X_scaled = pd.DataFrame(scaler.fit_transform(x), columns=x.columns)"
   ]
  },
  {
   "cell_type": "markdown",
   "metadata": {},
   "source": [
    "Untuk memastikan bahwa seluruh fitur numerik berada dalam skala yang seragam, dilakukan proses normalisasi menggunakan MinMaxScaler. Pemilihan MinMaxScaler didasarkan pada karakteristik data yang tidak mengandung nilai ekstrim dalam jumlah besar, sehingga metode ini efektif dalam menjaga distribusi asli data sambil memastikan semua fitur memiliki kontribusi seimbang saat proses pelatihan model. Scaling ini penting agar algoritma machine learning, terutama yang berbasis jarak seperti KNN atau yang sensitif terhadap skala seperti Logistic Regression, dapat bekerja secara optimal."
   ]
  },
  {
   "cell_type": "markdown",
   "metadata": {},
   "source": [
    "### Target Balancing"
   ]
  },
  {
   "cell_type": "markdown",
   "metadata": {},
   "source": [
    "Target balancing adalah langkah penting dalam pre-processing data ketika kita memiliki dataset yang tidak seimbang antara kelas target (misalnya, banyaknya data untuk kelas churn dan tidak churn). Model machine learning dapat menjadi bias terhadap kelas mayoritas, menghasilkan prediksi yang kurang akurat untuk kelas minoritas. Oleh karena itu, penting untuk menyeimbangkan kelas-kelas ini agar model dapat belajar secara adil dari kedua kelas.\n",
    "\n",
    "Teknik SMOTE (Synthetic Minority Over-sampling Technique) untuk mengatasi masalah ketidakseimbangan kelas. SMOTE bekerja dengan menambahkan sampel sintetis pada kelas minoritas (dalam hal ini kelas \"1\" atau churn) berdasarkan fitur-fitur yang ada, sehingga jumlah sampel antara kelas mayoritas dan minoritas menjadi seimbang.\n"
   ]
  },
  {
   "cell_type": "code",
   "execution_count": 64,
   "metadata": {},
   "outputs": [
    {
     "name": "stdout",
     "output_type": "stream",
     "text": [
      "Before SMOTE: Counter({0: 3267, 1: 674})\n",
      "After SMOTE: Counter({0: 3267, 1: 3267})\n"
     ]
    }
   ],
   "source": [
    "from imblearn.over_sampling import SMOTE\n",
    "from collections import Counter\n",
    "\n",
    "smote = SMOTE(random_state=42)\n",
    "X_scaled_res, y_res = smote.fit_resample(X_scaled, y)\n",
    "\n",
    "print(\"Before SMOTE:\", Counter(y))\n",
    "print(\"After SMOTE:\", Counter(y_res))\n"
   ]
  },
  {
   "cell_type": "markdown",
   "metadata": {},
   "source": [
    "Dataset memiliki 3267 sampel dari kelas 0 (tidak churn) dan hanya 674 sampel dari kelas 1 (churn), yang menunjukkan adanya ketidakseimbangan yang cukup besar.          \n",
    "Dengan menggunakan SMOTE, jumlah kelas 0 dan kelas 1 sekarang seimbang, masing-masing memiliki 3267 sampel. SMOTE menambahkan sampel sintetis untuk kelas minoritas (kelas 1) sehingga model dapat belajar lebih baik dari kedua kelas tanpa bias terhadap kelas mayoritas.\n"
   ]
  },
  {
   "cell_type": "markdown",
   "metadata": {},
   "source": [
    "### Train-Test Split"
   ]
  },
  {
   "cell_type": "code",
   "execution_count": 65,
   "metadata": {},
   "outputs": [
    {
     "name": "stdout",
     "output_type": "stream",
     "text": [
      "X_train shape: (5227, 10)\n",
      "X_test shape: (1307, 10)\n",
      "y_train shape: (5227,)\n",
      "y_test shape: (1307,)\n"
     ]
    }
   ],
   "source": [
    "from sklearn.model_selection import train_test_split\n",
    "\n",
    "X_train, X_test, y_train, y_test = train_test_split(X_scaled_res, y_res, \n",
    "                                                    test_size=0.2, \n",
    "                                                    random_state=42, \n",
    "                                                    stratify=y_res)\n",
    "\n",
    "print(\"X_train shape:\", X_train.shape)\n",
    "print(\"X_test shape:\", X_test.shape)\n",
    "print(\"y_train shape:\", y_train.shape)\n",
    "print(\"y_test shape:\", y_test.shape)"
   ]
  },
  {
   "cell_type": "markdown",
   "metadata": {},
   "source": [
    "Train-Test Split adalah langkah penting dalam persiapan data untuk pelatihan model. Tujuannya adalah untuk membagi dataset menjadi dua bagian, yaitu data pelatihan (train set) dan data pengujian (test set), agar model dapat dipelajari pada sebagian data dan diuji keakuratannya pada data yang belum pernah dilihat sebelumnya. Dengan cara ini, kita dapat mengevaluasi kinerja model dengan lebih realistis, menghindari overfitting, dan memastikan bahwa model dapat menggeneralisasi dengan baik pada data yang baru."
   ]
  },
  {
   "cell_type": "markdown",
   "metadata": {},
   "source": [
    "Parameter:\n",
    "- test_size=0.2: Membagi 20% data untuk pengujian dan 80% untuk pelatihan, memberikan keseimbangan antara pelatihan dan evaluasi model.\n",
    "- random_state=42: Menetapkan angka acak tetap agar pembagian data dapat direproduksi. Dengan ini, setiap kali kita menjalankan kode, pembagian data tetap sama.\n",
    "- stratify=y_res: Memastikan proporsi target variabel di data pelatihan dan pengujian tetap sama, sehingga model tidak terpengaruh oleh ketidakseimbangan kelas."
   ]
  },
  {
   "cell_type": "markdown",
   "metadata": {},
   "source": [
    "## Model Building and Importing"
   ]
  },
  {
   "cell_type": "markdown",
   "metadata": {},
   "source": [
    "**Logistic Regression**         \n",
    "Logistic Regression adalah model yang sering digunakan untuk klasifikasi biner, dan cocok untuk prediksi churn karena kemampuannya dalam mengestimasi probabilitas suatu kejadian (seperti pelanggan yang churn). Model ini sederhana dan interpretatif, yang penting untuk mengidentifikasi faktor-faktor yang memengaruhi churn. Dalam praktiknya, Logistic Regression memberikan hasil yang stabil meskipun untuk dataset dengan banyak fitur, dan performanya cukup baik di banyak kasus bisnis dengan akurasi tinggi dan efisiensi dalam pengolahan data.\n",
    "\n",
    "**Decision Tree**       \n",
    "Decision Tree adalah model yang sangat mudah dipahami, yang membuatnya ideal untuk analisis churn di mana kita perlu memahami aturan keputusan di balik prediksi churn. Decision Tree mampu menangani hubungan yang kompleks antar fitur dan memberikan transparansi mengenai alasan kenapa seorang pelanggan berisiko untuk berhenti. Model ini cocok untuk dataset dengan data kategori dan numerik serta bisa menghindari overfitting jika diatur dengan benar.\n",
    "\n",
    "**Random Forest**       \n",
    "Random Forest adalah ensemble model yang mengatasi kelemahan Decision Tree dengan menggabungkan banyak pohon keputusan untuk meningkatkan stabilitas dan akurasi model. Dengan menggunakan teknik bagging, Random Forest sangat efektif dalam mengatasi masalah overfitting yang sering ditemukan pada model sederhana seperti Decision Tree. Ini menjadikannya pilihan yang sangat baik untuk churn prediction di mana akurasi tinggi dan generalisasi yang baik dibutuhkan pada dataset yang mungkin sangat beragam dan memiliki noise.\n",
    "\n",
    "**XGBoost**     \n",
    "XGBoost adalah model boosting yang terkenal karena performa tinggi dalam banyak kompetisi data science. XGBoost mampu menangani data yang tidak seimbang dan memiliki kemampuan untuk mengurangi overfitting dengan melakukan regularisasi. Dalam kasus churn prediction, XGBoost sangat bermanfaat karena kemampuannya dalam menangani dataset besar dan kompleks, serta meningkatkan akurasi prediksi secara signifikan. Model ini juga lebih cepat dalam pelatihan dibandingkan model boosting lainnya, seperti AdaBoost.\n",
    "\n",
    "**Support Vector Machine (SVM)**        \n",
    "SVM sangat baik digunakan untuk klasifikasi ketika margin antara dua kelas sangat jelas dan dapat menangani fitur dengan dimensi tinggi. Meskipun memerlukan tuning parameter yang lebih rumit, SVM sangat efektif dalam memberikan prediksi yang sangat akurat pada dataset yang lebih kompleks dan multivariat, seperti churn prediction, di mana terdapat banyak faktor yang saling berinteraksi. SVM juga memberikan generalizability yang baik, sehingga model ini dapat bekerja dengan baik pada data yang tidak terpapar sebelumnya."
   ]
  },
  {
   "cell_type": "code",
   "execution_count": 66,
   "metadata": {},
   "outputs": [
    {
     "name": "stderr",
     "output_type": "stream",
     "text": [
      "C:\\Users\\Ridho\\AppData\\Local\\Packages\\PythonSoftwareFoundation.Python.3.13_qbz5n2kfra8p0\\LocalCache\\local-packages\\Python313\\site-packages\\xgboost\\training.py:183: UserWarning: [16:51:21] WARNING: C:\\actions-runner\\_work\\xgboost\\xgboost\\src\\learner.cc:738: \n",
      "Parameters: { \"use_label_encoder\" } are not used.\n",
      "\n",
      "  bst.update(dtrain, iteration=i, fobj=obj)\n"
     ]
    },
    {
     "name": "stdout",
     "output_type": "stream",
     "text": [
      "         Model          Accuracy  Precision   Recall   F1 Score   ROC AUC   PR AUC \n",
      "3              XGBoost  0.972456  0.973886   0.970904  0.972393  0.994673  0.995054\n",
      "2        Random Forest  0.964040  0.963303   0.964778  0.964040  0.994455  0.994158\n",
      "1        Decision Tree  0.936496  0.949527   0.921899  0.935509  0.936485  0.914388\n",
      "4                  SVM  0.837796  0.831579   0.846861  0.839150  0.917138  0.907802\n",
      "0  Logistic Regression  0.783474  0.778614   0.791730  0.785118  0.857953  0.864577\n"
     ]
    }
   ],
   "source": [
    "from sklearn.model_selection import train_test_split\n",
    "from sklearn.metrics import (\n",
    "    accuracy_score, precision_score, recall_score, f1_score,\n",
    "    roc_auc_score, average_precision_score\n",
    ")\n",
    "from sklearn.linear_model import LogisticRegression\n",
    "from sklearn.tree import DecisionTreeClassifier\n",
    "from sklearn.ensemble import RandomForestClassifier\n",
    "from xgboost import XGBClassifier\n",
    "from sklearn.svm import SVC\n",
    "\n",
    "import pandas as pd\n",
    "\n",
    "models = {\n",
    "    \"Logistic Regression\": LogisticRegression(max_iter=1000),\n",
    "    \"Decision Tree\": DecisionTreeClassifier(random_state=42),\n",
    "    \"Random Forest\": RandomForestClassifier(random_state=42),\n",
    "    \"XGBoost\": XGBClassifier(use_label_encoder=False, eval_metric='logloss'),\n",
    "    \"SVM\": SVC(probability=True) \n",
    "}\n",
    "\n",
    "results = []\n",
    "\n",
    "for name, model in models.items():\n",
    "    model.fit(X_train, y_train)\n",
    "    y_pred = model.predict(X_test)\n",
    "\n",
    "   \n",
    "    if hasattr(model, \"predict_proba\"):\n",
    "        y_proba = model.predict_proba(X_test)[:, 1]\n",
    "    elif hasattr(model, \"decision_function\"):\n",
    "        y_proba = model.decision_function(X_test)\n",
    "    else:\n",
    "        y_proba = None\n",
    "\n",
    "    results.append([\n",
    "        name,\n",
    "        accuracy_score(y_test, y_pred),\n",
    "        precision_score(y_test, y_pred),\n",
    "        recall_score(y_test, y_pred),\n",
    "        f1_score(y_test, y_pred),\n",
    "        roc_auc_score(y_test, y_proba) if y_proba is not None else None,\n",
    "        average_precision_score(y_test, y_proba) if y_proba is not None else None\n",
    "    ])\n",
    "\n",
    "columns = [\"Model\", \"Accuracy\", \"Precision\", \"Recall\", \"F1 Score\", \"ROC AUC\", \"PR AUC\"]\n",
    "results_df = pd.DataFrame(results, columns=columns)\n",
    "\n",
    "pd.set_option(\"display.max_columns\", None)\n",
    "pd.set_option(\"display.width\", 120)\n",
    "pd.set_option(\"display.colheader_justify\", \"center\")\n",
    "\n",
    "print(results_df.sort_values(by=\"F1 Score\", ascending=False))\n"
   ]
  },
  {
   "cell_type": "markdown",
   "metadata": {},
   "source": [
    "Setelah dilakukan pengujian terhadap lima algoritma klasifikasi, saya putuskan untuk hanya melanjutkan tiga model terbaik berdasarkan performa metrik yang relevan, yaitu **XGBoost, Random Forest, dan Decision Tree.** Alasan pemilihan ini tidak semata-mata berdasarkan nilai akurasi saja, tetapi juga mempertimbangkan metrik lain seperti precision, recall, F1 score, serta ROC AUC dan PR AUC yang memberikan gambaran lebih menyeluruh mengenai kemampuan model dalam mengklasifikasikan data churn yang umumnya bersifat imbalance.\n",
    "\n",
    "Pemilihan hanya tiga model bertujuan untuk meningkatkan efisiensi dalam proses tuning dan analisis lebih lanjut. Mencoba terlalu banyak model secara bersamaan dapat mempersulit proses interpretasi dan meningkatkan risiko overfitting terhadap data validasi. Dengan membatasi pilihan ke tiga model terbaik, proses dapat difokuskan secara mendalam untuk menghasilkan model yang optimal dan robust, sekaligus memudahkan komunikasi hasil kepada stakeholder non-teknis."
   ]
  },
  {
   "cell_type": "markdown",
   "metadata": {},
   "source": [
    "1. XGBoost      \n",
    "XGBoost dipilih karena memberikan hasil paling unggul di semua metrik utama: akurasi 0.9725, F1 Score 0.9724, dan ROC AUC 0.9947. Model ini dirancang untuk performa tinggi dan telah terbukti unggul di banyak kompetisi dan aplikasi industri. Selain itu, ia mendukung regularisasi, penanganan missing value, dan efisien dalam training pada dataset yang kompleks seperti churn prediction.\n",
    "\n",
    "2. Random Forest        \n",
    "Random Forest konsisten menjadi salah satu model terbaik dalam berbagai kasus klasifikasi. Dengan F1 Score 0.9640 dan ROC AUC 0.9945, model ini sangat andal dan lebih mudah dijelaskan dibanding XGBoost. Ia bekerja baik meskipun data tidak terlalu besar, dan mampu menangkap interaksi antar fitur secara otomatis.\n",
    "\n",
    "3. Decision Tree        \n",
    "Meskipun lebih sederhana, Decision Tree tetap dipilih karena memberikan F1 Score 0.9355 dan precision tinggi 0.9495. Selain itu, model ini sangat interpretable, cocok jika dibutuhkan visualisasi alur keputusan atau jika stakeholder menginginkan penjelasan logis dari hasil prediksi model."
   ]
  },
  {
   "cell_type": "markdown",
   "metadata": {},
   "source": [
    "#### XgBoost"
   ]
  },
  {
   "cell_type": "markdown",
   "metadata": {},
   "source": [
    "Untuk memastikan bahwa model Machine Learning yang digunakan bekerja secara optimal dan tidak terlalu menyesuaikan diri dengan data latihan (overfitting), saya melakukan proses yang disebut hyperparameter tuning."
   ]
  },
  {
   "cell_type": "code",
   "execution_count": 67,
   "metadata": {},
   "outputs": [
    {
     "name": "stdout",
     "output_type": "stream",
     "text": [
      "XGBoost Model:\n",
      "Training Accuracy: 0.9992\n",
      "Test Accuracy: 0.9725\n",
      "              precision    recall  f1-score   support\n",
      "\n",
      "           0       0.97      0.97      0.97       654\n",
      "           1       0.97      0.97      0.97       653\n",
      "\n",
      "    accuracy                           0.97      1307\n",
      "   macro avg       0.97      0.97      0.97      1307\n",
      "weighted avg       0.97      0.97      0.97      1307\n",
      "\n"
     ]
    },
    {
     "name": "stderr",
     "output_type": "stream",
     "text": [
      "C:\\Users\\Ridho\\AppData\\Local\\Packages\\PythonSoftwareFoundation.Python.3.13_qbz5n2kfra8p0\\LocalCache\\local-packages\\Python313\\site-packages\\xgboost\\training.py:183: UserWarning: [16:51:24] WARNING: C:\\actions-runner\\_work\\xgboost\\xgboost\\src\\learner.cc:738: \n",
      "Parameters: { \"use_label_encoder\" } are not used.\n",
      "\n",
      "  bst.update(dtrain, iteration=i, fobj=obj)\n"
     ]
    }
   ],
   "source": [
    "from sklearn.metrics import classification_report, accuracy_score, confusion_matrix, f1_score, precision_score, recall_score\n",
    "\n",
    "xgb_model = XGBClassifier(eval_metric='mlogloss', use_label_encoder=False)\n",
    "xgb_model.fit(X_train, y_train)\n",
    "\n",
    "y_train_pred_xgb = xgb_model.predict(X_train)\n",
    "y_test_pred_xgb = xgb_model.predict(X_test)\n",
    "print(\"XGBoost Model:\")\n",
    "print(f\"Training Accuracy: {accuracy_score(y_train, y_train_pred_xgb):.4f}\")\n",
    "print(f\"Test Accuracy: {accuracy_score(y_test, y_test_pred_xgb):.4f}\")\n",
    "print(classification_report(y_test, y_test_pred_xgb))"
   ]
  },
  {
   "cell_type": "code",
   "execution_count": 68,
   "metadata": {},
   "outputs": [
    {
     "name": "stderr",
     "output_type": "stream",
     "text": [
      "C:\\Users\\Ridho\\AppData\\Local\\Packages\\PythonSoftwareFoundation.Python.3.13_qbz5n2kfra8p0\\LocalCache\\local-packages\\Python313\\site-packages\\xgboost\\training.py:183: UserWarning: [16:51:24] WARNING: C:\\actions-runner\\_work\\xgboost\\xgboost\\src\\learner.cc:738: \n",
      "Parameters: { \"use_label_encoder\" } are not used.\n",
      "\n",
      "  bst.update(dtrain, iteration=i, fobj=obj)\n"
     ]
    },
    {
     "name": "stdout",
     "output_type": "stream",
     "text": [
      "XGBoost Model:\n",
      "Training Accuracy: 0.9897\n",
      "Test Accuracy: 0.9656\n",
      "              precision    recall  f1-score   support\n",
      "\n",
      "           0       0.96      0.97      0.97       654\n",
      "           1       0.97      0.96      0.97       653\n",
      "\n",
      "    accuracy                           0.97      1307\n",
      "   macro avg       0.97      0.97      0.97      1307\n",
      "weighted avg       0.97      0.97      0.97      1307\n",
      "\n"
     ]
    }
   ],
   "source": [
    "xgb_model = XGBClassifier(\n",
    "    eval_metric='mlogloss',\n",
    "    use_label_encoder=False,\n",
    "    max_depth=6,                \n",
    "    learning_rate=0.05,          \n",
    "    n_estimators=300,             \n",
    "    subsample=0.7,                \n",
    "    colsample_bytree=0.7,         \n",
    "    alpha=0.05,              \n",
    "    reg_lambda=0.05,\n",
    "    random_state=42               \n",
    ")\n",
    "\n",
    "xgb_model.fit(X_train, y_train)\n",
    "\n",
    "y_train_pred_xgb = xgb_model.predict(X_train)\n",
    "y_test_pred_xgb = xgb_model.predict(X_test)\n",
    "\n",
    "print(\"XGBoost Model:\")\n",
    "print(f\"Training Accuracy: {accuracy_score(y_train, y_train_pred_xgb):.4f}\")\n",
    "print(f\"Test Accuracy: {accuracy_score(y_test, y_test_pred_xgb):.4f}\")\n",
    "print(classification_report(y_test, y_test_pred_xgb))"
   ]
  },
  {
   "cell_type": "markdown",
   "metadata": {},
   "source": [
    "Dari proses tuning tersebut, saya menemukan kombinasi parameter yang menghasilkan keseimbangan sangat baik antara akurasi pada data pelatihan dan data pengujian, yaitu:\n",
    "\n",
    "- max_depth=6: Membatasi kedalaman pohon agar tidak terlalu kompleks.\n",
    "- Learning_rate=0.05: Mengatur seberapa besar perubahan model di setiap langkah pelatihan.\n",
    "- n_estimators=300: Menggunakan 300 pohon untuk prediksi.\n",
    "- subsample=0.7 & colsample_bytree=0.7: Mengurangi jumlah data dan fitur yang digunakan per pohon, untuk meningkatkan generalisasi.\n",
    "- alpha=0.05 dan reg_lambda=0.05: Regularisasi untuk menghindari model terlalu cocok dengan data train.\n",
    "\n",
    "Hasilnya, model memiliki Training Accuracy sebesar 98.97% dan Test Accuracy sebesar 96.56%, yang artinya model belajar dengan baik namun tetap mampu memprediksi data baru dengan akurat."
   ]
  },
  {
   "cell_type": "code",
   "execution_count": 69,
   "metadata": {},
   "outputs": [
    {
     "data": {
      "image/png": "[encoded data removed]",
      "text/plain": [
       "<Figure size 1000x600 with 1 Axes>"
      ]
     },
     "metadata": {},
     "output_type": "display_data"
    },
    {
     "name": "stdout",
     "output_type": "stream",
     "text": [
      "\n",
      "Feature Importance by Gain (Numeric):\n",
      "        Feature             Gain  \n",
      "                  Tenure 12.536891\n",
      "                Complain  9.652925\n",
      "        PreferedOrderCat  6.114236\n",
      "       DaySinceLastOrder  5.393421\n",
      "NumberOfDeviceRegistered  5.158616\n",
      "           MaritalStatus  4.772324\n",
      "         NumberOfAddress  4.709062\n",
      "       SatisfactionScore  3.544714\n",
      "          CashbackAmount  2.803067\n",
      "         WarehouseToHome  2.756516\n"
     ]
    }
   ],
   "source": [
    "booster = xgb_model.get_booster()\n",
    "importance_dict = booster.get_score(importance_type='gain')\n",
    "\n",
    "feature_importance_df = pd.DataFrame({\n",
    "    'Feature': list(importance_dict.keys()),\n",
    "    'Gain': list(importance_dict.values())\n",
    "})\n",
    "\n",
    "feature_importance_df = feature_importance_df.sort_values(by='Gain', ascending=False)\n",
    "\n",
    "plt.figure(figsize=(10, 6))\n",
    "sns.barplot(x='Gain', y='Feature', data=feature_importance_df)\n",
    "plt.title('XGBoost Feature Importance by Gain')\n",
    "plt.xlabel('Total Gain')\n",
    "plt.ylabel('Feature')\n",
    "plt.tight_layout()\n",
    "plt.show()\n",
    "\n",
    "print(\"\\nFeature Importance by Gain (Numeric):\")\n",
    "print(feature_importance_df.to_string(index=False))"
   ]
  },
  {
   "cell_type": "markdown",
   "metadata": {},
   "source": [
    "| No | Fitur                    |  Gain | Penjelasan                                                                    |\n",
    "| -- | ------------------------ | ---------- | ----------------------------------------------------------------------------------- |\n",
    "| 1  | Tenure                   | 12.53     | Pelanggan dengan masa bergabung tertentu (terutama baru) lebih rentan untuk churn.  |\n",
    "| 2  | Complain                 | 9.65      | Pelanggan yang pernah mengeluh lebih mungkin untuk berhenti menggunakan layanan.    |\n",
    "| 3  | PreferedOrderCat         | 6.11      | Kategori produk favorit memengaruhi loyalitas atau kebosanan pelanggan.             |\n",
    "| 4  | DaySinceLastOrder        | 5.39      | Semakin lama pelanggan tidak belanja, semakin tinggi risiko churn.                  |\n",
    "| 5  | MaritalStatus            | 4.77      | Status menikah bisa menunjukkan stabilitas yang memengaruhi loyalitas pelanggan.    |\n",
    "| 6  | NumberOfAddress          | 4.70      | Banyaknya alamat bisa menunjukkan mobilitas atau kompleksitas penggunaan layanan.   |\n",
    "| 7  | NumberOfDeviceRegistered | 5.15      | Semakin banyak perangkat, semakin tinggi keterlibatan pelanggan.                    |\n",
    "| 8  | SatisfactionScore        | 3.54      | Skor kepuasan memberi sinyal risiko churn, tapi dampaknya tidak sebesar fitur lain. |\n",
    "| 9  | CashbackAmount           | 2.80      | Cashback memengaruhi retensi, namun tidak terlalu signifikan dibanding lainnya.     |\n"
   ]
  },
  {
   "cell_type": "markdown",
   "metadata": {},
   "source": [
    "#### Random Forest"
   ]
  },
  {
   "cell_type": "code",
   "execution_count": 70,
   "metadata": {},
   "outputs": [
    {
     "name": "stdout",
     "output_type": "stream",
     "text": [
      "\n",
      "Random Forest Model:\n",
      "Training Accuracy: 1.0000\n",
      "Test Accuracy: 0.9640\n",
      "              precision    recall  f1-score   support\n",
      "\n",
      "           0       0.96      0.96      0.96       654\n",
      "           1       0.96      0.96      0.96       653\n",
      "\n",
      "    accuracy                           0.96      1307\n",
      "   macro avg       0.96      0.96      0.96      1307\n",
      "weighted avg       0.96      0.96      0.96      1307\n",
      "\n"
     ]
    }
   ],
   "source": [
    "rf_model = RandomForestClassifier(random_state=42)\n",
    "rf_model.fit(X_train, y_train)\n",
    "\n",
    "\n",
    "y_train_pred_rf = rf_model.predict(X_train)\n",
    "y_test_pred_rf = rf_model.predict(X_test)\n",
    "print(\"\\nRandom Forest Model:\")\n",
    "print(f\"Training Accuracy: {accuracy_score(y_train, y_train_pred_rf):.4f}\")\n",
    "print(f\"Test Accuracy: {accuracy_score(y_test, y_test_pred_rf):.4f}\")\n",
    "print(classification_report(y_test, y_test_pred_rf))"
   ]
  },
  {
   "cell_type": "code",
   "execution_count": 71,
   "metadata": {},
   "outputs": [
    {
     "name": "stdout",
     "output_type": "stream",
     "text": [
      "Fitting 3 folds for each of 486 candidates, totalling 1458 fits\n"
     ]
    },
    {
     "name": "stdout",
     "output_type": "stream",
     "text": [
      "Best Parameters: {'bootstrap': False, 'max_depth': 20, 'max_features': 'sqrt', 'min_samples_leaf': 1, 'min_samples_split': 2, 'n_estimators': 100}\n",
      "\n",
      "Random Forest Model:\n",
      "Training Accuracy: 1.0000\n",
      "Test Accuracy: 0.9679\n",
      "              precision    recall  f1-score   support\n",
      "\n",
      "           0       0.97      0.97      0.97       654\n",
      "           1       0.97      0.96      0.97       653\n",
      "\n",
      "    accuracy                           0.97      1307\n",
      "   macro avg       0.97      0.97      0.97      1307\n",
      "weighted avg       0.97      0.97      0.97      1307\n",
      "\n"
     ]
    }
   ],
   "source": [
    "from sklearn.model_selection import GridSearchCV, train_test_split, StratifiedKFold\n",
    "rf_model = RandomForestClassifier(random_state=42)\n",
    "\n",
    "param_grid = {\n",
    "    'n_estimators': [100, 200, 300],\n",
    "    'max_depth': [10, 20, None],\n",
    "    'min_samples_split': [2, 5, 10],\n",
    "    'min_samples_leaf': [1, 2, 4],\n",
    "    'max_features': ['sqrt', 'log2', None], \n",
    "    'bootstrap': [True, False]\n",
    "}\n",
    "\n",
    "\n",
    "grid_search = GridSearchCV(estimator=rf_model, param_grid=param_grid, cv=3, n_jobs=-1, verbose=2)\n",
    "grid_search.fit(X_train, y_train)\n",
    "\n",
    "\n",
    "print(f\"Best Parameters: {grid_search.best_params_}\")\n",
    "best_rf_model = grid_search.best_estimator_\n",
    "\n",
    "y_train_pred_rf = best_rf_model.predict(X_train)\n",
    "y_test_pred_rf = best_rf_model.predict(X_test)\n",
    "\n",
    "print(\"\\nRandom Forest Model:\")\n",
    "print(f\"Training Accuracy: {accuracy_score(y_train, y_train_pred_rf):.4f}\")\n",
    "print(f\"Test Accuracy: {accuracy_score(y_test, y_test_pred_rf):.4f}\")\n",
    "print(classification_report(y_test, y_test_pred_rf))"
   ]
  },
  {
   "cell_type": "code",
   "execution_count": 72,
   "metadata": {},
   "outputs": [
    {
     "name": "stdout",
     "output_type": "stream",
     "text": [
      "Fitting 3 folds for each of 48 candidates, totalling 144 fits\n",
      "Best Parameters: {'bootstrap': True, 'max_depth': 12, 'max_features': 'sqrt', 'max_samples': 0.8, 'min_samples_leaf': 3, 'min_samples_split': 5, 'n_estimators': 200}\n",
      "\n",
      "Random Forest Model:\n",
      "Training Accuracy: 0.9755\n",
      "Test Accuracy: 0.9357\n",
      "              precision    recall  f1-score   support\n",
      "\n",
      "           0       0.94      0.93      0.94       654\n",
      "           1       0.93      0.94      0.94       653\n",
      "\n",
      "    accuracy                           0.94      1307\n",
      "   macro avg       0.94      0.94      0.94      1307\n",
      "weighted avg       0.94      0.94      0.94      1307\n",
      "\n"
     ]
    }
   ],
   "source": [
    "rf_model = RandomForestClassifier(random_state=42)\n",
    "\n",
    "param_grid = {\n",
    "    'n_estimators': [100, 200],\n",
    "    'max_depth': [8, 10, 12],\n",
    "    'min_samples_split': [5, 10],\n",
    "    'min_samples_leaf': [3, 5],\n",
    "    'max_features': ['sqrt'],\n",
    "    'bootstrap': [True],\n",
    "    'max_samples': [0.7, 0.8] \n",
    "}\n",
    "\n",
    "grid_search = GridSearchCV(estimator=rf_model, param_grid=param_grid, cv=3, n_jobs=-1, verbose=2)\n",
    "grid_search.fit(X_train, y_train)\n",
    "\n",
    "\n",
    "print(f\"Best Parameters: {grid_search.best_params_}\")\n",
    "best_rf_model = grid_search.best_estimator_\n",
    "\n",
    "y_train_pred_rf = best_rf_model.predict(X_train)\n",
    "y_test_pred_rf = best_rf_model.predict(X_test)\n",
    "\n",
    "print(\"\\nRandom Forest Model:\")\n",
    "print(f\"Training Accuracy: {accuracy_score(y_train, y_train_pred_rf):.4f}\")\n",
    "print(f\"Test Accuracy: {accuracy_score(y_test, y_test_pred_rf):.4f}\")\n",
    "print(classification_report(y_test, y_test_pred_rf))"
   ]
  },
  {
   "cell_type": "markdown",
   "metadata": {},
   "source": [
    "Dari proses tuning yang telah dilakukan, saya menemukan kombinasi parameter Random Forest yang menghasilkan keseimbangan sangat baik antara akurasi pada data pelatihan dan data pengujian, yaitu:\n",
    "\n",
    "- n_estimators = 100: Menggunakan 100 pohon keputusan dalam model. Jumlah ini cukup untuk menghasilkan prediksi yang stabil tanpa membuat pelatihan terlalu lama.\n",
    "- max_depth = 10: Membatasi kedalaman pohon hingga 10 level untuk mencegah model terlalu kompleks dan overfitting.\n",
    "- min_samples_split = 5: Sebuah node hanya akan dibagi jika memiliki minimal 5 data. Ini membuat model lebih konservatif dalam membuat pembagian.\n",
    "- min_samples_leaf = 3: Setiap daun minimal harus memiliki 3 data, mencegah pembentukan daun yang terlalu kecil dan rentan terhadap noise.\n",
    "- max_features = 'sqrt': Hanya sebagian kecil dari fitur (akar kuadrat dari total fitur) yang dipertimbangkan saat membagi node, meningkatkan keragaman antar pohon dan kemampuan generalisasi.\n",
    "- bootstrap = True: Setiap pohon dilatih dengan sampel acak dari data, sebuah ciri khas Random Forest untuk meningkatkan stabilitas model.\n",
    "- max_samples = 0.8: Setiap pohon hanya melihat 80% data, menambah variasi dan mengurangi kemungkinan overfitting.\n",
    "\n",
    "Hasilnya, model memiliki Training Accuracy sebesar 97.55% dan Test Accuracy sebesar 93.57%, yang menunjukkan bahwa model mampu belajar dari data pelatihan dengan baik namun tetap akurat saat menghadapi data baru yang belum pernah dilihat sebelumnya."
   ]
  },
  {
   "cell_type": "code",
   "execution_count": 73,
   "metadata": {},
   "outputs": [
    {
     "data": {
      "image/png": "[encoded data removed]",
      "text/plain": [
       "<Figure size 1000x600 with 1 Axes>"
      ]
     },
     "metadata": {},
     "output_type": "display_data"
    },
    {
     "name": "stdout",
     "output_type": "stream",
     "text": [
      "Feature Importance by Random Forest (Numeric):\n",
      "           Feature           Importance\n",
      "0                    Tenure   0.337579 \n",
      "8         DaySinceLastOrder   0.103517 \n",
      "9            CashbackAmount   0.095202 \n",
      "3          PreferedOrderCat   0.082116 \n",
      "7                  Complain   0.081318 \n",
      "6           NumberOfAddress   0.079943 \n",
      "1           WarehouseToHome   0.070650 \n",
      "4         SatisfactionScore   0.055041 \n",
      "2  NumberOfDeviceRegistered   0.048990 \n",
      "5             MaritalStatus   0.045643 \n"
     ]
    }
   ],
   "source": [
    "importances = best_rf_model.feature_importances_\n",
    "\n",
    "# Mengonversi ke dalam DataFrame untuk memudahkan interpretasi\n",
    "feature_importance_df = pd.DataFrame({\n",
    "    'Feature': X_train.columns,\n",
    "    'Importance': importances\n",
    "})\n",
    "\n",
    "feature_importance_df = feature_importance_df.sort_values(by='Importance', ascending=False)\n",
    "\n",
    "plt.figure(figsize=(10, 6))\n",
    "sns.barplot(x='Importance', y='Feature', data=feature_importance_df)\n",
    "plt.title('Random Forest Feature Importance')\n",
    "plt.xlabel('Importance')\n",
    "plt.ylabel('Feature')\n",
    "plt.tight_layout()\n",
    "plt.show()\n",
    "\n",
    "print(\"Feature Importance by Random Forest (Numeric):\")\n",
    "print(feature_importance_df)\n",
    "\n"
   ]
  },
  {
   "cell_type": "markdown",
   "metadata": {},
   "source": [
    "| **Feature**                  | **Importance** | **Penjelasan**                                                               |\n",
    "| ---------------------------- | -------------- | ---------------------------------------------------------------------------- |\n",
    "| **Tenure**                   | 0.337579       | Lama pelanggan berlangganan, berpengaruh besar terhadap churn.               |\n",
    "| **DaySinceLastOrder**        | 0.103517       | Jumlah hari sejak pesanan terakhir, menggambarkan ketertarikan pelanggan.    |\n",
    "| **CashbackAmount**           | 0.095202       | Total cashback yang diterima, mempengaruhi loyalitas pelanggan.              |\n",
    "| **PreferedOrderCat**         | 0.082116       | Kategori pesanan yang disukai, mempengaruhi pola pembelian pelanggan.        |\n",
    "| **Complain**                 | 0.081318       | Keluhan pelanggan, sering kali terkait dengan churn.                         |\n",
    "| **NumberOfAddress**          | 0.079943       | Jumlah alamat terdaftar, dapat menunjukkan keseriusan pelanggan.             |\n",
    "| **WarehouseToHome**          | 0.070650       | Jarak pengiriman, mempengaruhi kepuasan pelanggan terhadap waktu pengiriman. |\n",
    "| **SatisfactionScore**        | 0.055041       | Kepuasan pelanggan, indikator penting untuk churn.                           |\n",
    "| **NumberOfDeviceRegistered** | 0.048990       | Jumlah perangkat terdaftar, menunjukkan tingkat penggunaan layanan.          |\n",
    "| **MaritalStatus**            | 0.045643       | Status perkawinan, memberi gambaran tentang perilaku pelanggan.              |\n"
   ]
  },
  {
   "cell_type": "markdown",
   "metadata": {},
   "source": [
    "#### Decision tree"
   ]
  },
  {
   "cell_type": "code",
   "execution_count": 74,
   "metadata": {},
   "outputs": [
    {
     "name": "stdout",
     "output_type": "stream",
     "text": [
      "\n",
      "Decision Tree Model:\n",
      "Training Accuracy: 1.0000\n",
      "Test Accuracy: 0.9365\n",
      "              precision    recall  f1-score   support\n",
      "\n",
      "           0       0.92      0.95      0.94       654\n",
      "           1       0.95      0.92      0.94       653\n",
      "\n",
      "    accuracy                           0.94      1307\n",
      "   macro avg       0.94      0.94      0.94      1307\n",
      "weighted avg       0.94      0.94      0.94      1307\n",
      "\n"
     ]
    }
   ],
   "source": [
    "dt_model = DecisionTreeClassifier(random_state=42)\n",
    "dt_model.fit(X_train, y_train)\n",
    "\n",
    "y_train_pred_dt = dt_model.predict(X_train)\n",
    "y_test_pred_dt = dt_model.predict(X_test)\n",
    "print(\"\\nDecision Tree Model:\")\n",
    "print(f\"Training Accuracy: {accuracy_score(y_train, y_train_pred_dt):.4f}\")\n",
    "print(f\"Test Accuracy: {accuracy_score(y_test, y_test_pred_dt):.4f}\")\n",
    "print(classification_report(y_test, y_test_pred_dt))"
   ]
  },
  {
   "cell_type": "code",
   "execution_count": 75,
   "metadata": {},
   "outputs": [
    {
     "name": "stdout",
     "output_type": "stream",
     "text": [
      "Fitting 3 folds for each of 270 candidates, totalling 810 fits\n",
      "Best Parameters: {'criterion': 'entropy', 'max_depth': None, 'max_features': None, 'min_samples_leaf': 1, 'min_samples_split': 2}\n",
      "\n",
      "Decision Tree Model:\n",
      "Training Accuracy: 1.0000\n",
      "Test Accuracy: 0.9327\n",
      "              precision    recall  f1-score   support\n",
      "\n",
      "           0       0.93      0.94      0.93       654\n",
      "           1       0.94      0.92      0.93       653\n",
      "\n",
      "    accuracy                           0.93      1307\n",
      "   macro avg       0.93      0.93      0.93      1307\n",
      "weighted avg       0.93      0.93      0.93      1307\n",
      "\n"
     ]
    }
   ],
   "source": [
    "dt_model = DecisionTreeClassifier(random_state=42)\n",
    "\n",
    "\n",
    "param_grid = {\n",
    "    'max_depth': [None, 5, 10, 15, 20],\n",
    "    'min_samples_split': [2, 5, 10],\n",
    "    'min_samples_leaf': [1, 2, 5],\n",
    "    'criterion': ['gini', 'entropy'],\n",
    "    'max_features': ['sqrt', 'log2', None],  \n",
    "}\n",
    "\n",
    "grid_search = GridSearchCV(estimator=dt_model, param_grid=param_grid, cv=3, n_jobs=-1, verbose=2)\n",
    "grid_search.fit(X_train, y_train)\n",
    "\n",
    "print(f\"Best Parameters: {grid_search.best_params_}\")\n",
    "\n",
    "best_dt_model = grid_search.best_estimator_\n",
    "\n",
    "y_train_pred_dt = best_dt_model.predict(X_train)\n",
    "y_test_pred_dt = best_dt_model.predict(X_test)\n",
    "\n",
    "print(\"\\nDecision Tree Model:\")\n",
    "print(f\"Training Accuracy: {accuracy_score(y_train, y_train_pred_dt):.4f}\")\n",
    "print(f\"Test Accuracy: {accuracy_score(y_test, y_test_pred_dt):.4f}\")\n",
    "print(classification_report(y_test, y_test_pred_dt))"
   ]
  },
  {
   "cell_type": "code",
   "execution_count": 76,
   "metadata": {},
   "outputs": [
    {
     "name": "stdout",
     "output_type": "stream",
     "text": [
      "Fitting 3 folds for each of 270 candidates, totalling 810 fits\n",
      "Best Parameters: {'criterion': 'entropy', 'max_depth': 20, 'max_features': None, 'min_samples_leaf': 2, 'min_samples_split': 5, 'random_state': 42}\n",
      "\n",
      "Decision Tree Model:\n",
      "Training Accuracy: 0.9860\n",
      "Test Accuracy: 0.9281\n",
      "              precision    recall  f1-score   support\n",
      "\n",
      "           0       0.91      0.95      0.93       654\n",
      "           1       0.95      0.90      0.93       653\n",
      "\n",
      "    accuracy                           0.93      1307\n",
      "   macro avg       0.93      0.93      0.93      1307\n",
      "weighted avg       0.93      0.93      0.93      1307\n",
      "\n"
     ]
    }
   ],
   "source": [
    "dt_model = DecisionTreeClassifier(random_state=42)\n",
    "\n",
    "param_grid = {\n",
    "    'max_depth': [5, 10, 15, 20, None],  \n",
    "    'min_samples_split': [5, 10, 15],   \n",
    "    'min_samples_leaf': [2, 5, 10],      \n",
    "    'criterion': ['gini', 'entropy'],   \n",
    "    'max_features': ['sqrt', 'log2', None],  \n",
    "    'random_state': [42]  \n",
    "}\n",
    "\n",
    "\n",
    "grid_search = GridSearchCV(estimator=dt_model, param_grid=param_grid, cv=3, n_jobs=-1, verbose=2)\n",
    "grid_search.fit(X_train, y_train)\n",
    "\n",
    "\n",
    "print(f\"Best Parameters: {grid_search.best_params_}\")\n",
    "\n",
    "\n",
    "best_dt_model = grid_search.best_estimator_\n",
    "\n",
    "\n",
    "y_train_pred_dt = best_dt_model.predict(X_train)\n",
    "y_test_pred_dt = best_dt_model.predict(X_test)\n",
    "\n",
    "print(\"\\nDecision Tree Model:\")\n",
    "print(f\"Training Accuracy: {accuracy_score(y_train, y_train_pred_dt):.4f}\")\n",
    "print(f\"Test Accuracy: {accuracy_score(y_test, y_test_pred_dt):.4f}\")\n",
    "print(classification_report(y_test, y_test_pred_dt))"
   ]
  },
  {
   "cell_type": "markdown",
   "metadata": {},
   "source": [
    "- criterion='entropy': Metrik ini digunakan untuk memilih fitur terbaik dalam pembagian node. Dengan menggunakan \"entropy\", model mempertimbangkan ketidakpastian dalam pemilihan fitur, yang membantu meningkatkan kinerja model pada data yang lebih kompleks.\n",
    "- max_depth=20: Menetapkan batas kedalaman pohon hingga 20 tingkat. Hal ini membatasi kompleksitas model dan mencegah pohon menjadi terlalu dalam (overfitting).\n",
    "- min_samples_split=5: Menetapkan batas minimal jumlah sampel untuk membagi node menjadi 5. Ini membantu model untuk tidak membagi terlalu banyak, sehingga mengurangi kemungkinan overfitting.\n",
    "- min_samples_leaf=2: Menetapkan jumlah minimal sampel di daun menjadi 2. Dengan cara ini, model menghindari pembuatan cabang yang terlalu spesifik dengan sedikit sampel.\n",
    "- max_features=None: Menggunakan semua fitur yang tersedia untuk pembagian setiap node."
   ]
  },
  {
   "cell_type": "code",
   "execution_count": 77,
   "metadata": {},
   "outputs": [
    {
     "data": {
      "image/png": "[encoded data removed]",
      "text/plain": [
       "<Figure size 1000x600 with 1 Axes>"
      ]
     },
     "metadata": {},
     "output_type": "display_data"
    },
    {
     "name": "stdout",
     "output_type": "stream",
     "text": [
      "Feature Importance by Random Forest (Numeric):\n",
      "        Feature           Importance\n",
      "                  Tenure   0.337579 \n",
      "       DaySinceLastOrder   0.103517 \n",
      "          CashbackAmount   0.095202 \n",
      "        PreferedOrderCat   0.082116 \n",
      "                Complain   0.081318 \n",
      "         NumberOfAddress   0.079943 \n",
      "         WarehouseToHome   0.070650 \n",
      "       SatisfactionScore   0.055041 \n",
      "NumberOfDeviceRegistered   0.048990 \n",
      "           MaritalStatus   0.045643 \n"
     ]
    }
   ],
   "source": [
    "importances = best_rf_model.feature_importances_\n",
    "feature_names = X_train.columns\n",
    "\n",
    "rf_importance_df = pd.DataFrame({\n",
    "    'Feature': feature_names,\n",
    "    'Importance': importances\n",
    "})\n",
    "\n",
    "\n",
    "rf_importance_df = rf_importance_df.sort_values(by='Importance', ascending=False).reset_index(drop=True)\n",
    "\n",
    "plt.figure(figsize=(10, 6))\n",
    "sns.barplot(x='Importance', y='Feature', data=rf_importance_df)\n",
    "plt.title('Feature Importance by Random Forest')\n",
    "plt.xlabel('Importance')\n",
    "plt.ylabel('Feature')\n",
    "plt.tight_layout()\n",
    "plt.show()\n",
    "\n",
    "print(\"Feature Importance by Random Forest (Numeric):\")\n",
    "print(rf_importance_df.to_string(index=False))\n",
    "\n"
   ]
  },
  {
   "cell_type": "markdown",
   "metadata": {},
   "source": [
    "| **Feature**                  | **Importance** | **Penjelasan**                                                               |\n",
    "| ---------------------------- | -------------- | ---------------------------------------------------------------------------- |\n",
    "| **Tenure**                   | 0.337579       | Lama pelanggan berlangganan, berpengaruh besar terhadap churn.               |\n",
    "| **DaySinceLastOrder**        | 0.103517       | Jumlah hari sejak pesanan terakhir, menggambarkan ketertarikan pelanggan.    |\n",
    "| **CashbackAmount**           | 0.095202       | Total cashback yang diterima, mempengaruhi loyalitas pelanggan.              |\n",
    "| **PreferedOrderCat**         | 0.082116       | Kategori pesanan yang disukai, mempengaruhi pola pembelian pelanggan.        |\n",
    "| **Complain**                 | 0.081318       | Keluhan pelanggan, sering kali terkait dengan churn.                         |\n",
    "| **NumberOfAddress**          | 0.079943       | Jumlah alamat terdaftar, dapat menunjukkan keseriusan pelanggan.             |\n",
    "| **WarehouseToHome**          | 0.070650       | Jarak pengiriman, mempengaruhi kepuasan pelanggan terhadap waktu pengiriman. |\n",
    "| **SatisfactionScore**        | 0.055041       | Kepuasan pelanggan, indikator penting untuk churn.                           |\n",
    "| **NumberOfDeviceRegistered** | 0.048990       | Jumlah perangkat terdaftar, menunjukkan tingkat penggunaan layanan.          |\n",
    "| **MaritalStatus**            | 0.045643       | Status perkawinan, memberi gambaran tentang perilaku pelanggan.              |\n"
   ]
  },
  {
   "cell_type": "markdown",
   "metadata": {},
   "source": [
    "## Model Evaluations and Import To PKL"
   ]
  },
  {
   "cell_type": "markdown",
   "metadata": {},
   "source": [
    "| Model         | Training Accuracy | Test Accuracy | Overfitting? | Penjelasan                                       |\n",
    "| ------------- | ----------------- | ------------- | ------------ | --------------------------------------------- |\n",
    "| Decision Tree | 98.60%            | 92.81%        | Sedikit      | Cenderung mudah overfit, walau sudah dituning |\n",
    "| Random Forest | 97.55%            | 93.57%        | Stabil       | Generalisasi bagus, performa konsisten        |\n",
    "| XGBoost       | 99.06%            | 96.25%        | Sedikit      | Akurasi tertinggi, performa baik di test set  |\n"
   ]
  },
  {
   "cell_type": "markdown",
   "metadata": {},
   "source": [
    "Saya memakai dua metrik penting, yaitu **Training Accuracy** dan **Test Accuracy**. Training Accuracy mengukur seberapa baik model mempelajari data yang digunakan untuk melatihnya. Jika terlalu tinggi, bisa jadi model tersebut mengalami overfitting, di mana model terlalu menghafal data pelatihan tanpa dapat menggeneralisasi pola-pola penting. Sebaliknya, jika training accuracy terlalu rendah, model tersebut bisa underfit, yang berarti model tidak belajar cukup dari data pelatihan untuk memprediksi dengan baik.\n",
    "\n",
    "Sementara itu, Test Accuracy memberikan gambaran tentang seberapa baik model dalam memprediksi data yang tidak terlihat sebelumnya, yaitu data pengujian. Test accuracy ini lebih penting karena menggambarkan bagaimana model akan bekerja di dunia nyata, di mana model tidak hanya akan menghadapi data pelatihan, tetapi juga data yang berbeda yang belum pernah dilihat sebelumnya."
   ]
  },
  {
   "cell_type": "markdown",
   "metadata": {},
   "source": [
    "### Using Best Model"
   ]
  },
  {
   "cell_type": "markdown",
   "metadata": {},
   "source": [
    "Setelah membandingkan ketiga model yang telah diuji, saya memutuskan untuk memilih **Random Forest** sebagai model terbaik untuk kasus churn ini. Random Forest menunjukkan performa yang sangat stabil dengan Test Accuracy sebesar 93.57%, yang hampir setara dengan Training Accuracy (97.55%). Hal ini menunjukkan bahwa model ini memiliki kemampuan generalisasi yang baik, yang sangat penting ketika menghadapi data baru atau data yang tidak dilihat sebelumnya. Selain itu, Random Forest cenderung lebih tahan terhadap overfitting karena menggabungkan banyak pohon keputusan, yang membuatnya lebih robust dan mampu bekerja dengan baik meskipun data memiliki variasi atau noise.\n",
    "\n",
    "Di sisi lain, meskipun XGBoost menunjukkan Training Accuracy tertinggi (99.06%) dan Test Accuracy yang sangat baik (96.25%), model ini menunjukkan sedikit tanda overfitting. Selisih yang cukup besar antara Training Accuracy dan Test Accuracy menunjukkan bahwa model ini cenderung terlalu mempelajari detail-data tertentu pada data pelatihan, yang mungkin tidak selalu relevan untuk data baru. Meskipun performa pada test set cukup baik, overfitting ini bisa mengurangi keandalan model ketika diterapkan di dunia nyata.\n",
    "\n",
    "Oleh karena itu, meskipun XGBoost memiliki performa yang sangat baik di data pelatihan dan pengujian, saya lebih memilih Random Forest karena keseimbangan yang lebih baik antara akurasi pada data pelatihan dan pengujian, serta kemampuannya untuk menghindari overfitting secara lebih efektif. Model ini lebih dapat diandalkan untuk prediksi churn yang konsisten di berbagai kondisi dan data baru."
   ]
  },
  {
   "cell_type": "markdown",
   "metadata": {},
   "source": [
    "### Random Forest Importing .pkl"
   ]
  },
  {
   "cell_type": "code",
   "execution_count": 78,
   "metadata": {},
   "outputs": [
    {
     "name": "stdout",
     "output_type": "stream",
     "text": [
      "Sucess\n"
     ]
    }
   ],
   "source": [
    "import joblib\n",
    "joblib.dump(best_rf_model, 'random_forest_model.pkl')\n",
    "\n",
    "print(\"Sucess\")"
   ]
  },
  {
   "cell_type": "markdown",
   "metadata": {},
   "source": [
    "Model Importing adalah proses memuat model yang telah dilatih sebelumnya (biasanya disimpan dalam format file) untuk digunakan kembali tanpa perlu melatihnya dari awal. Proses ini sangat berguna ketika model sudah dipelajari dengan data yang besar atau membutuhkan waktu pelatihan yang lama, dan kita ingin menggunakannya untuk prediksi pada data baru di masa depan."
   ]
  },
  {
   "cell_type": "markdown",
   "metadata": {},
   "source": [
    "## Conclusion and Recomendations"
   ]
  },
  {
   "cell_type": "markdown",
   "metadata": {},
   "source": [
    "**Model Machine Learning**      \n",
    "Model prediksi churn terbukti dapat mengidentifikasi pelanggan yang berpotensi churn secara akurat, dengan test accuracy hingga 93.57% dan f1-score mencapai 0.94 pada Random Forest.\n",
    "\n",
    "**Variabel Penting dalam Churn**        \n",
    "| Feature               | Importance | Insight                                                               |\n",
    "| --------------------- | ---------- | --------------------------------------------------------------------- |\n",
    "| **Tenure**            | 0.3376     | Pelanggan dengan masa langganan pendek lebih berisiko untuk churn.    |\n",
    "| **DaySinceLastOrder** | 0.1035     | Ketidakterlibatan dalam waktu lama bisa menandakan hilangnya minat.   |\n",
    "| **CashbackAmount**    | 0.0952     | Cashback tinggi menunjukkan pelanggan loyal yang perlu dipertahankan. |\n",
    "| **Complain**          | 0.0813     | Keluhan berhubungan dengan churn, perlu penanganan khusus.            |\n"
   ]
  },
  {
   "cell_type": "markdown",
   "metadata": {},
   "source": [
    "**Recomendations**      \n",
    "1. Prioritaskan Intervensi terhadap Pelanggan Berisiko Tinggi\n",
    "Gunakan hasil model untuk mengidentifikasi pelanggan dengan skor churn tinggi dan lakukan tindakan preventif, seperti:\n",
    "- Penawaran eksklusif untuk pelanggan dengan DaySinceLastOrder tinggi.\n",
    "- Program loyalitas untuk pelanggan dengan cashback besar.\n",
    "\n",
    "2. Perhatikan Pelanggan Baru dan Keluhan\n",
    "Pelanggan dengan Tenure pendek perlu diberi onboarding dan layanan ekstra agar tidak churn lebih awal. Segera tanggapi pelanggan dengan riwayat keluhan, karena mereka lebih berpotensi churn.\n",
    "\n",
    "3. Integrasikan Model ke Dalam Sistem Operasional\n",
    "Model prediksi churn ini sebaiknya diintegrasikan ke dalam sistem CRM internal agar tim marketing dan customer service dapat secara langsung mengakses informasi risiko churn dan melakukan intervensi lebih terarah."
   ]
  }
 ],
 "metadata": {
  "kernelspec": {
   "display_name": "Python 3",
   "language": "python",
   "name": "python3"
  },
  "language_info": {
   "codemirror_mode": {
    "name": "ipython",
    "version": 3
   },
   "file_extension": ".py",
   "mimetype": "text/x-python",
   "name": "python",
   "nbconvert_exporter": "python",
   "pygments_lexer": "ipython3",
   "version": "3.13.3"
  }
 },
 "nbformat": 4,
 "nbformat_minor": 2
}
